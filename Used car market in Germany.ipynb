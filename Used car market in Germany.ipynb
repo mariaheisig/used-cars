{
 "cells": [
  {
   "cell_type": "markdown",
   "metadata": {
    "collapsed": true
   },
   "source": [
    "# Analyzing eBay Kleinanzeigen data\n",
    "In this project we'll be looking at a sample of 50.000 data points from the original eBay Kleinanzeigen dataset. The full data set can be found __[here.](https://data.world/data-society/used-cars-data)__\n",
    "\n",
    "Our goal is to clean up the data and then run a few analysis to get a better picture of the used car market of that time period."
   ]
  },
  {
   "cell_type": "markdown",
   "metadata": {},
   "source": [
    "## 1. Getting to know the data"
   ]
  },
  {
   "cell_type": "code",
   "execution_count": 1,
   "metadata": {},
   "outputs": [],
   "source": [
    "import pandas as pd\n",
    "import numpy as np\n",
    "import matplotlib.pyplot as plt\n",
    "\n",
    "autos = pd.read_csv(\"autos.csv\",\n",
    "                    encoding=\"Latin-1\"\n",
    "                   )"
   ]
  },
  {
   "cell_type": "code",
   "execution_count": 2,
   "metadata": {},
   "outputs": [],
   "source": [
    "pd.set_option('display.float_format', lambda x: '%.2f' % x)"
   ]
  },
  {
   "cell_type": "code",
   "execution_count": 3,
   "metadata": {},
   "outputs": [
    {
     "name": "stdout",
     "output_type": "stream",
     "text": [
      "<class 'pandas.core.frame.DataFrame'>\n",
      "RangeIndex: 50000 entries, 0 to 49999\n",
      "Data columns (total 20 columns):\n",
      " #   Column               Non-Null Count  Dtype \n",
      "---  ------               --------------  ----- \n",
      " 0   dateCrawled          50000 non-null  object\n",
      " 1   name                 50000 non-null  object\n",
      " 2   seller               50000 non-null  object\n",
      " 3   offerType            50000 non-null  object\n",
      " 4   price                50000 non-null  object\n",
      " 5   abtest               50000 non-null  object\n",
      " 6   vehicleType          44905 non-null  object\n",
      " 7   yearOfRegistration   50000 non-null  int64 \n",
      " 8   gearbox              47320 non-null  object\n",
      " 9   powerPS              50000 non-null  int64 \n",
      " 10  model                47242 non-null  object\n",
      " 11  odometer             50000 non-null  object\n",
      " 12  monthOfRegistration  50000 non-null  int64 \n",
      " 13  fuelType             45518 non-null  object\n",
      " 14  brand                50000 non-null  object\n",
      " 15  notRepairedDamage    40171 non-null  object\n",
      " 16  dateCreated          50000 non-null  object\n",
      " 17  nrOfPictures         50000 non-null  int64 \n",
      " 18  postalCode           50000 non-null  int64 \n",
      " 19  lastSeen             50000 non-null  object\n",
      "dtypes: int64(5), object(15)\n",
      "memory usage: 7.6+ MB\n"
     ]
    },
    {
     "data": {
      "text/html": [
       "<div>\n",
       "<style scoped>\n",
       "    .dataframe tbody tr th:only-of-type {\n",
       "        vertical-align: middle;\n",
       "    }\n",
       "\n",
       "    .dataframe tbody tr th {\n",
       "        vertical-align: top;\n",
       "    }\n",
       "\n",
       "    .dataframe thead th {\n",
       "        text-align: right;\n",
       "    }\n",
       "</style>\n",
       "<table border=\"1\" class=\"dataframe\">\n",
       "  <thead>\n",
       "    <tr style=\"text-align: right;\">\n",
       "      <th></th>\n",
       "      <th>dateCrawled</th>\n",
       "      <th>name</th>\n",
       "      <th>seller</th>\n",
       "      <th>offerType</th>\n",
       "      <th>price</th>\n",
       "      <th>abtest</th>\n",
       "      <th>vehicleType</th>\n",
       "      <th>yearOfRegistration</th>\n",
       "      <th>gearbox</th>\n",
       "      <th>powerPS</th>\n",
       "      <th>model</th>\n",
       "      <th>odometer</th>\n",
       "      <th>monthOfRegistration</th>\n",
       "      <th>fuelType</th>\n",
       "      <th>brand</th>\n",
       "      <th>notRepairedDamage</th>\n",
       "      <th>dateCreated</th>\n",
       "      <th>nrOfPictures</th>\n",
       "      <th>postalCode</th>\n",
       "      <th>lastSeen</th>\n",
       "    </tr>\n",
       "  </thead>\n",
       "  <tbody>\n",
       "    <tr>\n",
       "      <th>0</th>\n",
       "      <td>2016-03-26 17:47:46</td>\n",
       "      <td>Peugeot_807_160_NAVTECH_ON_BOARD</td>\n",
       "      <td>privat</td>\n",
       "      <td>Angebot</td>\n",
       "      <td>$5,000</td>\n",
       "      <td>control</td>\n",
       "      <td>bus</td>\n",
       "      <td>2004</td>\n",
       "      <td>manuell</td>\n",
       "      <td>158</td>\n",
       "      <td>andere</td>\n",
       "      <td>150,000km</td>\n",
       "      <td>3</td>\n",
       "      <td>lpg</td>\n",
       "      <td>peugeot</td>\n",
       "      <td>nein</td>\n",
       "      <td>2016-03-26 00:00:00</td>\n",
       "      <td>0</td>\n",
       "      <td>79588</td>\n",
       "      <td>2016-04-06 06:45:54</td>\n",
       "    </tr>\n",
       "    <tr>\n",
       "      <th>1</th>\n",
       "      <td>2016-04-04 13:38:56</td>\n",
       "      <td>BMW_740i_4_4_Liter_HAMANN_UMBAU_Mega_Optik</td>\n",
       "      <td>privat</td>\n",
       "      <td>Angebot</td>\n",
       "      <td>$8,500</td>\n",
       "      <td>control</td>\n",
       "      <td>limousine</td>\n",
       "      <td>1997</td>\n",
       "      <td>automatik</td>\n",
       "      <td>286</td>\n",
       "      <td>7er</td>\n",
       "      <td>150,000km</td>\n",
       "      <td>6</td>\n",
       "      <td>benzin</td>\n",
       "      <td>bmw</td>\n",
       "      <td>nein</td>\n",
       "      <td>2016-04-04 00:00:00</td>\n",
       "      <td>0</td>\n",
       "      <td>71034</td>\n",
       "      <td>2016-04-06 14:45:08</td>\n",
       "    </tr>\n",
       "    <tr>\n",
       "      <th>2</th>\n",
       "      <td>2016-03-26 18:57:24</td>\n",
       "      <td>Volkswagen_Golf_1.6_United</td>\n",
       "      <td>privat</td>\n",
       "      <td>Angebot</td>\n",
       "      <td>$8,990</td>\n",
       "      <td>test</td>\n",
       "      <td>limousine</td>\n",
       "      <td>2009</td>\n",
       "      <td>manuell</td>\n",
       "      <td>102</td>\n",
       "      <td>golf</td>\n",
       "      <td>70,000km</td>\n",
       "      <td>7</td>\n",
       "      <td>benzin</td>\n",
       "      <td>volkswagen</td>\n",
       "      <td>nein</td>\n",
       "      <td>2016-03-26 00:00:00</td>\n",
       "      <td>0</td>\n",
       "      <td>35394</td>\n",
       "      <td>2016-04-06 20:15:37</td>\n",
       "    </tr>\n",
       "    <tr>\n",
       "      <th>3</th>\n",
       "      <td>2016-03-12 16:58:10</td>\n",
       "      <td>Smart_smart_fortwo_coupe_softouch/F1/Klima/Pan...</td>\n",
       "      <td>privat</td>\n",
       "      <td>Angebot</td>\n",
       "      <td>$4,350</td>\n",
       "      <td>control</td>\n",
       "      <td>kleinwagen</td>\n",
       "      <td>2007</td>\n",
       "      <td>automatik</td>\n",
       "      <td>71</td>\n",
       "      <td>fortwo</td>\n",
       "      <td>70,000km</td>\n",
       "      <td>6</td>\n",
       "      <td>benzin</td>\n",
       "      <td>smart</td>\n",
       "      <td>nein</td>\n",
       "      <td>2016-03-12 00:00:00</td>\n",
       "      <td>0</td>\n",
       "      <td>33729</td>\n",
       "      <td>2016-03-15 03:16:28</td>\n",
       "    </tr>\n",
       "    <tr>\n",
       "      <th>4</th>\n",
       "      <td>2016-04-01 14:38:50</td>\n",
       "      <td>Ford_Focus_1_6_Benzin_TÜV_neu_ist_sehr_gepfleg...</td>\n",
       "      <td>privat</td>\n",
       "      <td>Angebot</td>\n",
       "      <td>$1,350</td>\n",
       "      <td>test</td>\n",
       "      <td>kombi</td>\n",
       "      <td>2003</td>\n",
       "      <td>manuell</td>\n",
       "      <td>0</td>\n",
       "      <td>focus</td>\n",
       "      <td>150,000km</td>\n",
       "      <td>7</td>\n",
       "      <td>benzin</td>\n",
       "      <td>ford</td>\n",
       "      <td>nein</td>\n",
       "      <td>2016-04-01 00:00:00</td>\n",
       "      <td>0</td>\n",
       "      <td>39218</td>\n",
       "      <td>2016-04-01 14:38:50</td>\n",
       "    </tr>\n",
       "  </tbody>\n",
       "</table>\n",
       "</div>"
      ],
      "text/plain": [
       "           dateCrawled                                               name  \\\n",
       "0  2016-03-26 17:47:46                   Peugeot_807_160_NAVTECH_ON_BOARD   \n",
       "1  2016-04-04 13:38:56         BMW_740i_4_4_Liter_HAMANN_UMBAU_Mega_Optik   \n",
       "2  2016-03-26 18:57:24                         Volkswagen_Golf_1.6_United   \n",
       "3  2016-03-12 16:58:10  Smart_smart_fortwo_coupe_softouch/F1/Klima/Pan...   \n",
       "4  2016-04-01 14:38:50  Ford_Focus_1_6_Benzin_TÜV_neu_ist_sehr_gepfleg...   \n",
       "\n",
       "   seller offerType   price   abtest vehicleType  yearOfRegistration  \\\n",
       "0  privat   Angebot  $5,000  control         bus                2004   \n",
       "1  privat   Angebot  $8,500  control   limousine                1997   \n",
       "2  privat   Angebot  $8,990     test   limousine                2009   \n",
       "3  privat   Angebot  $4,350  control  kleinwagen                2007   \n",
       "4  privat   Angebot  $1,350     test       kombi                2003   \n",
       "\n",
       "     gearbox  powerPS   model   odometer  monthOfRegistration fuelType  \\\n",
       "0    manuell      158  andere  150,000km                    3      lpg   \n",
       "1  automatik      286     7er  150,000km                    6   benzin   \n",
       "2    manuell      102    golf   70,000km                    7   benzin   \n",
       "3  automatik       71  fortwo   70,000km                    6   benzin   \n",
       "4    manuell        0   focus  150,000km                    7   benzin   \n",
       "\n",
       "        brand notRepairedDamage          dateCreated  nrOfPictures  \\\n",
       "0     peugeot              nein  2016-03-26 00:00:00             0   \n",
       "1         bmw              nein  2016-04-04 00:00:00             0   \n",
       "2  volkswagen              nein  2016-03-26 00:00:00             0   \n",
       "3       smart              nein  2016-03-12 00:00:00             0   \n",
       "4        ford              nein  2016-04-01 00:00:00             0   \n",
       "\n",
       "   postalCode             lastSeen  \n",
       "0       79588  2016-04-06 06:45:54  \n",
       "1       71034  2016-04-06 14:45:08  \n",
       "2       35394  2016-04-06 20:15:37  \n",
       "3       33729  2016-03-15 03:16:28  \n",
       "4       39218  2016-04-01 14:38:50  "
      ]
     },
     "execution_count": 3,
     "metadata": {},
     "output_type": "execute_result"
    }
   ],
   "source": [
    "autos.info()\n",
    "autos.head()"
   ]
  },
  {
   "cell_type": "markdown",
   "metadata": {},
   "source": [
    "### Key observations:\n",
    "\n",
    "For a number of cars we are missing the info about:\n",
    "\n",
    "- Vehicle type (10.2%)\n",
    "- The transmission type (5.3%)\n",
    "- The model name (5.5%)\n",
    "- The type of fuel the cars use (8.9%)\n",
    "- Whether the car has damage or not (can possibly be explained by the fact that not all cars sold had damages) (19.7%)"
   ]
  },
  {
   "cell_type": "markdown",
   "metadata": {},
   "source": [
    "#### Let's rename the headers so it's easier to use them later on:"
   ]
  },
  {
   "cell_type": "code",
   "execution_count": 4,
   "metadata": {
    "scrolled": true
   },
   "outputs": [
    {
     "data": {
      "text/plain": [
       "Index(['dateCrawled', 'name', 'seller', 'offerType', 'price', 'abtest',\n",
       "       'vehicleType', 'yearOfRegistration', 'gearbox', 'powerPS', 'model',\n",
       "       'odometer', 'monthOfRegistration', 'fuelType', 'brand',\n",
       "       'notRepairedDamage', 'dateCreated', 'nrOfPictures', 'postalCode',\n",
       "       'lastSeen'],\n",
       "      dtype='object')"
      ]
     },
     "execution_count": 4,
     "metadata": {},
     "output_type": "execute_result"
    }
   ],
   "source": [
    "autos.columns"
   ]
  },
  {
   "cell_type": "code",
   "execution_count": 5,
   "metadata": {},
   "outputs": [],
   "source": [
    "autos.rename(columns={'yearOfRegistration' : 'registration_year',\n",
    "                     'monthOfRegistration':'registration_month',\n",
    "                     'notRepairedDamage':'unrepaired_damage',\n",
    "                     'dateCreated':'ad_created',\n",
    "                     'nrOfPictures':'pictures',\n",
    "                     'postalCode':'postal_code',\n",
    "                     'offerType':'offer_type',\n",
    "                     'vehicleType':'vehicle_type',\n",
    "                     'fuelType':'fuel_type',\n",
    "                     'lastSeen':'last_seen_online',\n",
    "                     'dateCrawled':'date_crawled',\n",
    "                     'abtest':'AB_test'},inplace=True)"
   ]
  },
  {
   "cell_type": "markdown",
   "metadata": {},
   "source": [
    "## 2. Data exploration and cleaning\n",
    "Let's have a closer look at the data to see where we might need to clean it."
   ]
  },
  {
   "cell_type": "code",
   "execution_count": 7,
   "metadata": {},
   "outputs": [
    {
     "data": {
      "text/html": [
       "<div>\n",
       "<style scoped>\n",
       "    .dataframe tbody tr th:only-of-type {\n",
       "        vertical-align: middle;\n",
       "    }\n",
       "\n",
       "    .dataframe tbody tr th {\n",
       "        vertical-align: top;\n",
       "    }\n",
       "\n",
       "    .dataframe thead th {\n",
       "        text-align: right;\n",
       "    }\n",
       "</style>\n",
       "<table border=\"1\" class=\"dataframe\">\n",
       "  <thead>\n",
       "    <tr style=\"text-align: right;\">\n",
       "      <th></th>\n",
       "      <th>date_crawled</th>\n",
       "      <th>name</th>\n",
       "      <th>seller</th>\n",
       "      <th>offer_type</th>\n",
       "      <th>price</th>\n",
       "      <th>AB_test</th>\n",
       "      <th>vehicle_type</th>\n",
       "      <th>registration_year</th>\n",
       "      <th>gearbox</th>\n",
       "      <th>powerPS</th>\n",
       "      <th>model</th>\n",
       "      <th>odometer</th>\n",
       "      <th>registration_month</th>\n",
       "      <th>fuel_type</th>\n",
       "      <th>brand</th>\n",
       "      <th>unrepaired_damage</th>\n",
       "      <th>ad_created</th>\n",
       "      <th>pictures</th>\n",
       "      <th>postal_code</th>\n",
       "      <th>last_seen_online</th>\n",
       "    </tr>\n",
       "  </thead>\n",
       "  <tbody>\n",
       "    <tr>\n",
       "      <th>count</th>\n",
       "      <td>50000</td>\n",
       "      <td>50000</td>\n",
       "      <td>50000</td>\n",
       "      <td>50000</td>\n",
       "      <td>50000</td>\n",
       "      <td>50000</td>\n",
       "      <td>44905</td>\n",
       "      <td>50000.00</td>\n",
       "      <td>47320</td>\n",
       "      <td>50000.00</td>\n",
       "      <td>47242</td>\n",
       "      <td>50000</td>\n",
       "      <td>50000.00</td>\n",
       "      <td>45518</td>\n",
       "      <td>50000</td>\n",
       "      <td>40171</td>\n",
       "      <td>50000</td>\n",
       "      <td>50000.00</td>\n",
       "      <td>50000.00</td>\n",
       "      <td>50000</td>\n",
       "    </tr>\n",
       "    <tr>\n",
       "      <th>unique</th>\n",
       "      <td>48213</td>\n",
       "      <td>38754</td>\n",
       "      <td>2</td>\n",
       "      <td>2</td>\n",
       "      <td>2357</td>\n",
       "      <td>2</td>\n",
       "      <td>8</td>\n",
       "      <td>nan</td>\n",
       "      <td>2</td>\n",
       "      <td>nan</td>\n",
       "      <td>245</td>\n",
       "      <td>13</td>\n",
       "      <td>nan</td>\n",
       "      <td>7</td>\n",
       "      <td>40</td>\n",
       "      <td>2</td>\n",
       "      <td>76</td>\n",
       "      <td>nan</td>\n",
       "      <td>nan</td>\n",
       "      <td>39481</td>\n",
       "    </tr>\n",
       "    <tr>\n",
       "      <th>top</th>\n",
       "      <td>2016-03-19 17:36:18</td>\n",
       "      <td>Ford_Fiesta</td>\n",
       "      <td>privat</td>\n",
       "      <td>Angebot</td>\n",
       "      <td>$0</td>\n",
       "      <td>test</td>\n",
       "      <td>limousine</td>\n",
       "      <td>nan</td>\n",
       "      <td>manuell</td>\n",
       "      <td>nan</td>\n",
       "      <td>golf</td>\n",
       "      <td>150,000km</td>\n",
       "      <td>nan</td>\n",
       "      <td>benzin</td>\n",
       "      <td>volkswagen</td>\n",
       "      <td>nein</td>\n",
       "      <td>2016-04-03 00:00:00</td>\n",
       "      <td>nan</td>\n",
       "      <td>nan</td>\n",
       "      <td>2016-04-07 06:17:27</td>\n",
       "    </tr>\n",
       "    <tr>\n",
       "      <th>freq</th>\n",
       "      <td>3</td>\n",
       "      <td>78</td>\n",
       "      <td>49999</td>\n",
       "      <td>49999</td>\n",
       "      <td>1421</td>\n",
       "      <td>25756</td>\n",
       "      <td>12859</td>\n",
       "      <td>nan</td>\n",
       "      <td>36993</td>\n",
       "      <td>nan</td>\n",
       "      <td>4024</td>\n",
       "      <td>32424</td>\n",
       "      <td>nan</td>\n",
       "      <td>30107</td>\n",
       "      <td>10687</td>\n",
       "      <td>35232</td>\n",
       "      <td>1946</td>\n",
       "      <td>nan</td>\n",
       "      <td>nan</td>\n",
       "      <td>8</td>\n",
       "    </tr>\n",
       "    <tr>\n",
       "      <th>mean</th>\n",
       "      <td>NaN</td>\n",
       "      <td>NaN</td>\n",
       "      <td>NaN</td>\n",
       "      <td>NaN</td>\n",
       "      <td>NaN</td>\n",
       "      <td>NaN</td>\n",
       "      <td>NaN</td>\n",
       "      <td>2005.07</td>\n",
       "      <td>NaN</td>\n",
       "      <td>116.36</td>\n",
       "      <td>NaN</td>\n",
       "      <td>NaN</td>\n",
       "      <td>5.72</td>\n",
       "      <td>NaN</td>\n",
       "      <td>NaN</td>\n",
       "      <td>NaN</td>\n",
       "      <td>NaN</td>\n",
       "      <td>0.00</td>\n",
       "      <td>50813.63</td>\n",
       "      <td>NaN</td>\n",
       "    </tr>\n",
       "    <tr>\n",
       "      <th>std</th>\n",
       "      <td>NaN</td>\n",
       "      <td>NaN</td>\n",
       "      <td>NaN</td>\n",
       "      <td>NaN</td>\n",
       "      <td>NaN</td>\n",
       "      <td>NaN</td>\n",
       "      <td>NaN</td>\n",
       "      <td>105.71</td>\n",
       "      <td>NaN</td>\n",
       "      <td>209.22</td>\n",
       "      <td>NaN</td>\n",
       "      <td>NaN</td>\n",
       "      <td>3.71</td>\n",
       "      <td>NaN</td>\n",
       "      <td>NaN</td>\n",
       "      <td>NaN</td>\n",
       "      <td>NaN</td>\n",
       "      <td>0.00</td>\n",
       "      <td>25779.75</td>\n",
       "      <td>NaN</td>\n",
       "    </tr>\n",
       "    <tr>\n",
       "      <th>min</th>\n",
       "      <td>NaN</td>\n",
       "      <td>NaN</td>\n",
       "      <td>NaN</td>\n",
       "      <td>NaN</td>\n",
       "      <td>NaN</td>\n",
       "      <td>NaN</td>\n",
       "      <td>NaN</td>\n",
       "      <td>1000.00</td>\n",
       "      <td>NaN</td>\n",
       "      <td>0.00</td>\n",
       "      <td>NaN</td>\n",
       "      <td>NaN</td>\n",
       "      <td>0.00</td>\n",
       "      <td>NaN</td>\n",
       "      <td>NaN</td>\n",
       "      <td>NaN</td>\n",
       "      <td>NaN</td>\n",
       "      <td>0.00</td>\n",
       "      <td>1067.00</td>\n",
       "      <td>NaN</td>\n",
       "    </tr>\n",
       "    <tr>\n",
       "      <th>25%</th>\n",
       "      <td>NaN</td>\n",
       "      <td>NaN</td>\n",
       "      <td>NaN</td>\n",
       "      <td>NaN</td>\n",
       "      <td>NaN</td>\n",
       "      <td>NaN</td>\n",
       "      <td>NaN</td>\n",
       "      <td>1999.00</td>\n",
       "      <td>NaN</td>\n",
       "      <td>70.00</td>\n",
       "      <td>NaN</td>\n",
       "      <td>NaN</td>\n",
       "      <td>3.00</td>\n",
       "      <td>NaN</td>\n",
       "      <td>NaN</td>\n",
       "      <td>NaN</td>\n",
       "      <td>NaN</td>\n",
       "      <td>0.00</td>\n",
       "      <td>30451.00</td>\n",
       "      <td>NaN</td>\n",
       "    </tr>\n",
       "    <tr>\n",
       "      <th>50%</th>\n",
       "      <td>NaN</td>\n",
       "      <td>NaN</td>\n",
       "      <td>NaN</td>\n",
       "      <td>NaN</td>\n",
       "      <td>NaN</td>\n",
       "      <td>NaN</td>\n",
       "      <td>NaN</td>\n",
       "      <td>2003.00</td>\n",
       "      <td>NaN</td>\n",
       "      <td>105.00</td>\n",
       "      <td>NaN</td>\n",
       "      <td>NaN</td>\n",
       "      <td>6.00</td>\n",
       "      <td>NaN</td>\n",
       "      <td>NaN</td>\n",
       "      <td>NaN</td>\n",
       "      <td>NaN</td>\n",
       "      <td>0.00</td>\n",
       "      <td>49577.00</td>\n",
       "      <td>NaN</td>\n",
       "    </tr>\n",
       "    <tr>\n",
       "      <th>75%</th>\n",
       "      <td>NaN</td>\n",
       "      <td>NaN</td>\n",
       "      <td>NaN</td>\n",
       "      <td>NaN</td>\n",
       "      <td>NaN</td>\n",
       "      <td>NaN</td>\n",
       "      <td>NaN</td>\n",
       "      <td>2008.00</td>\n",
       "      <td>NaN</td>\n",
       "      <td>150.00</td>\n",
       "      <td>NaN</td>\n",
       "      <td>NaN</td>\n",
       "      <td>9.00</td>\n",
       "      <td>NaN</td>\n",
       "      <td>NaN</td>\n",
       "      <td>NaN</td>\n",
       "      <td>NaN</td>\n",
       "      <td>0.00</td>\n",
       "      <td>71540.00</td>\n",
       "      <td>NaN</td>\n",
       "    </tr>\n",
       "    <tr>\n",
       "      <th>max</th>\n",
       "      <td>NaN</td>\n",
       "      <td>NaN</td>\n",
       "      <td>NaN</td>\n",
       "      <td>NaN</td>\n",
       "      <td>NaN</td>\n",
       "      <td>NaN</td>\n",
       "      <td>NaN</td>\n",
       "      <td>9999.00</td>\n",
       "      <td>NaN</td>\n",
       "      <td>17700.00</td>\n",
       "      <td>NaN</td>\n",
       "      <td>NaN</td>\n",
       "      <td>12.00</td>\n",
       "      <td>NaN</td>\n",
       "      <td>NaN</td>\n",
       "      <td>NaN</td>\n",
       "      <td>NaN</td>\n",
       "      <td>0.00</td>\n",
       "      <td>99998.00</td>\n",
       "      <td>NaN</td>\n",
       "    </tr>\n",
       "  </tbody>\n",
       "</table>\n",
       "</div>"
      ],
      "text/plain": [
       "               date_crawled         name  seller offer_type  price AB_test  \\\n",
       "count                 50000        50000   50000      50000  50000   50000   \n",
       "unique                48213        38754       2          2   2357       2   \n",
       "top     2016-03-19 17:36:18  Ford_Fiesta  privat    Angebot     $0    test   \n",
       "freq                      3           78   49999      49999   1421   25756   \n",
       "mean                    NaN          NaN     NaN        NaN    NaN     NaN   \n",
       "std                     NaN          NaN     NaN        NaN    NaN     NaN   \n",
       "min                     NaN          NaN     NaN        NaN    NaN     NaN   \n",
       "25%                     NaN          NaN     NaN        NaN    NaN     NaN   \n",
       "50%                     NaN          NaN     NaN        NaN    NaN     NaN   \n",
       "75%                     NaN          NaN     NaN        NaN    NaN     NaN   \n",
       "max                     NaN          NaN     NaN        NaN    NaN     NaN   \n",
       "\n",
       "       vehicle_type  registration_year  gearbox  powerPS  model   odometer  \\\n",
       "count         44905           50000.00    47320 50000.00  47242      50000   \n",
       "unique            8                nan        2      nan    245         13   \n",
       "top       limousine                nan  manuell      nan   golf  150,000km   \n",
       "freq          12859                nan    36993      nan   4024      32424   \n",
       "mean            NaN            2005.07      NaN   116.36    NaN        NaN   \n",
       "std             NaN             105.71      NaN   209.22    NaN        NaN   \n",
       "min             NaN            1000.00      NaN     0.00    NaN        NaN   \n",
       "25%             NaN            1999.00      NaN    70.00    NaN        NaN   \n",
       "50%             NaN            2003.00      NaN   105.00    NaN        NaN   \n",
       "75%             NaN            2008.00      NaN   150.00    NaN        NaN   \n",
       "max             NaN            9999.00      NaN 17700.00    NaN        NaN   \n",
       "\n",
       "        registration_month fuel_type       brand unrepaired_damage  \\\n",
       "count             50000.00     45518       50000             40171   \n",
       "unique                 nan         7          40                 2   \n",
       "top                    nan    benzin  volkswagen              nein   \n",
       "freq                   nan     30107       10687             35232   \n",
       "mean                  5.72       NaN         NaN               NaN   \n",
       "std                   3.71       NaN         NaN               NaN   \n",
       "min                   0.00       NaN         NaN               NaN   \n",
       "25%                   3.00       NaN         NaN               NaN   \n",
       "50%                   6.00       NaN         NaN               NaN   \n",
       "75%                   9.00       NaN         NaN               NaN   \n",
       "max                  12.00       NaN         NaN               NaN   \n",
       "\n",
       "                 ad_created  pictures  postal_code     last_seen_online  \n",
       "count                 50000  50000.00     50000.00                50000  \n",
       "unique                   76       nan          nan                39481  \n",
       "top     2016-04-03 00:00:00       nan          nan  2016-04-07 06:17:27  \n",
       "freq                   1946       nan          nan                    8  \n",
       "mean                    NaN      0.00     50813.63                  NaN  \n",
       "std                     NaN      0.00     25779.75                  NaN  \n",
       "min                     NaN      0.00      1067.00                  NaN  \n",
       "25%                     NaN      0.00     30451.00                  NaN  \n",
       "50%                     NaN      0.00     49577.00                  NaN  \n",
       "75%                     NaN      0.00     71540.00                  NaN  \n",
       "max                     NaN      0.00     99998.00                  NaN  "
      ]
     },
     "execution_count": 7,
     "metadata": {},
     "output_type": "execute_result"
    }
   ],
   "source": [
    "autos.describe(include=\"all\")"
   ]
  },
  {
   "cell_type": "markdown",
   "metadata": {},
   "source": [
    "#### This uncovers a few things:\n",
    "\n",
    "1. The coloumns **price** and **odometer** are numeric values stored as strings. We'll need to convert them.\n",
    "2. The **seller** and **offer_type** columns contain the same values in all but one entry. This makes them redundant for our analysis as they don't add much information about the listings.\n",
    "3. The **registration_year** column has some extreme values. We'll delete them from our data.\n",
    "\n",
    "### 2.1 Cleaning price and odometer columns\n",
    "\n",
    "Just by looking at the values above, we know that we'll have to remove '$' as well as 'km' from the two columns. However, we don't know from the data above if the price is written with \",\" or \".\" or just a space to indicate a number. \n",
    "\n",
    "Let's check that first:"
   ]
  },
  {
   "cell_type": "code",
   "execution_count": 8,
   "metadata": {
    "scrolled": true
   },
   "outputs": [
    {
     "data": {
      "text/plain": [
       "0    $5,000\n",
       "1    $8,500\n",
       "2    $8,990\n",
       "3    $4,350\n",
       "4    $1,350\n",
       "Name: price, dtype: object"
      ]
     },
     "execution_count": 8,
     "metadata": {},
     "output_type": "execute_result"
    }
   ],
   "source": [
    "autos[\"price\"].head(5)"
   ]
  },
  {
   "cell_type": "markdown",
   "metadata": {},
   "source": [
    "We see that a comma is used to separate numbers above $999. We must therefore exclude that character from the column before we can covert the data to numeric type."
   ]
  },
  {
   "cell_type": "code",
   "execution_count": 8,
   "metadata": {},
   "outputs": [],
   "source": [
    "autos[\"price\"] = autos[\"price\"].str.replace('$','').str.replace(',','').astype(int)\n"
   ]
  },
  {
   "cell_type": "markdown",
   "metadata": {},
   "source": [
    "Let's clean the **odometer** columns next. \n",
    "\n",
    "We already know that we need to remove the 'km' but what about any potential commas or periods?"
   ]
  },
  {
   "cell_type": "code",
   "execution_count": 9,
   "metadata": {},
   "outputs": [
    {
     "data": {
      "text/plain": [
       "0    150,000km\n",
       "1    150,000km\n",
       "2     70,000km\n",
       "3     70,000km\n",
       "4    150,000km\n",
       "Name: odometer, dtype: object"
      ]
     },
     "execution_count": 9,
     "metadata": {},
     "output_type": "execute_result"
    }
   ],
   "source": [
    "autos[\"odometer\"].head()"
   ]
  },
  {
   "cell_type": "markdown",
   "metadata": {},
   "source": [
    "A comma is used to separate the thousands, so we'll remove it as well before we convert the data to numeric type:"
   ]
  },
  {
   "cell_type": "code",
   "execution_count": 10,
   "metadata": {},
   "outputs": [],
   "source": [
    "autos[\"odometer\"] = autos[\"odometer\"].str.replace('km','').str.replace(',','').astype(int)\n"
   ]
  },
  {
   "cell_type": "markdown",
   "metadata": {},
   "source": [
    "**Now that both price and odometer columns are numeric, we can check for outliers**\n",
    "\n",
    "We'll start with the price column."
   ]
  },
  {
   "cell_type": "code",
   "execution_count": 30,
   "metadata": {},
   "outputs": [
    {
     "data": {
      "text/plain": [
       "(2357,)"
      ]
     },
     "execution_count": 30,
     "metadata": {},
     "output_type": "execute_result"
    }
   ],
   "source": [
    "autos[\"price\"].unique().shape"
   ]
  },
  {
   "cell_type": "code",
   "execution_count": 11,
   "metadata": {
    "scrolled": true
   },
   "outputs": [
    {
     "data": {
      "text/plain": [
       "count      50000.00\n",
       "mean        9840.04\n",
       "std       481104.38\n",
       "min            0.00\n",
       "25%         1100.00\n",
       "50%         2950.00\n",
       "75%         7200.00\n",
       "max     99999999.00\n",
       "Name: price, dtype: float64"
      ]
     },
     "execution_count": 11,
     "metadata": {},
     "output_type": "execute_result"
    }
   ],
   "source": [
    "autos[\"price\"].describe()"
   ]
  },
  {
   "cell_type": "markdown",
   "metadata": {},
   "source": [
    "#### Observations:\n",
    "\n",
    "- There are 2357 unique prices in the data set\n",
    "- The average price of a car is 9 840 USD. \n",
    "- The cheapest car is actually free, priced at 0. \n",
    "- The most expensive car seems to be prices at 100 million. That might be an error. \n",
    "\n",
    "We'll need to look closer at really big prices so that our analysis isn't skewed down the line:"
   ]
  },
  {
   "cell_type": "code",
   "execution_count": 12,
   "metadata": {},
   "outputs": [
    {
     "data": {
      "text/plain": [
       "99999999    1\n",
       "27322222    1\n",
       "12345678    3\n",
       "11111111    2\n",
       "10000000    1\n",
       "3890000     1\n",
       "1300000     1\n",
       "1234566     1\n",
       "999999      2\n",
       "999990      1\n",
       "350000      1\n",
       "345000      1\n",
       "299000      1\n",
       "295000      1\n",
       "265000      1\n",
       "259000      1\n",
       "250000      1\n",
       "220000      1\n",
       "198000      1\n",
       "197000      1\n",
       "Name: price, dtype: int64"
      ]
     },
     "execution_count": 12,
     "metadata": {},
     "output_type": "execute_result"
    }
   ],
   "source": [
    "autos[\"price\"].value_counts().sort_index(ascending=False).head(20)"
   ]
  },
  {
   "cell_type": "markdown",
   "metadata": {},
   "source": [
    "There is a big jump in price after 350 000 USD. Some of the prices might be a random input - such as 99999999 and 12345678. Overall, all of the prices above 350 000 USD seem very high for a used car. \n",
    "\n",
    "Let's see the model of the cars to see if the prices makes sense."
   ]
  },
  {
   "cell_type": "code",
   "execution_count": 13,
   "metadata": {},
   "outputs": [
    {
     "data": {
      "text/html": [
       "<div>\n",
       "<style scoped>\n",
       "    .dataframe tbody tr th:only-of-type {\n",
       "        vertical-align: middle;\n",
       "    }\n",
       "\n",
       "    .dataframe tbody tr th {\n",
       "        vertical-align: top;\n",
       "    }\n",
       "\n",
       "    .dataframe thead th {\n",
       "        text-align: right;\n",
       "    }\n",
       "</style>\n",
       "<table border=\"1\" class=\"dataframe\">\n",
       "  <thead>\n",
       "    <tr style=\"text-align: right;\">\n",
       "      <th></th>\n",
       "      <th>name</th>\n",
       "      <th>price</th>\n",
       "      <th>model</th>\n",
       "    </tr>\n",
       "  </thead>\n",
       "  <tbody>\n",
       "    <tr>\n",
       "      <th>39705</th>\n",
       "      <td>Tausch_gegen_gleichwertiges</td>\n",
       "      <td>99999999</td>\n",
       "      <td>s_klasse</td>\n",
       "    </tr>\n",
       "    <tr>\n",
       "      <th>42221</th>\n",
       "      <td>Leasinguebernahme</td>\n",
       "      <td>27322222</td>\n",
       "      <td>c4</td>\n",
       "    </tr>\n",
       "    <tr>\n",
       "      <th>27371</th>\n",
       "      <td>Fiat_Punto</td>\n",
       "      <td>12345678</td>\n",
       "      <td>punto</td>\n",
       "    </tr>\n",
       "    <tr>\n",
       "      <th>39377</th>\n",
       "      <td>Tausche_volvo_v40_gegen_van</td>\n",
       "      <td>12345678</td>\n",
       "      <td>v40</td>\n",
       "    </tr>\n",
       "    <tr>\n",
       "      <th>47598</th>\n",
       "      <td>Opel_Vectra_B_1_6i_16V_Facelift_Tuning_Showcar...</td>\n",
       "      <td>12345678</td>\n",
       "      <td>vectra</td>\n",
       "    </tr>\n",
       "    <tr>\n",
       "      <th>2897</th>\n",
       "      <td>Escort_MK_1_Hundeknochen_zum_umbauen_auf_RS_2000</td>\n",
       "      <td>11111111</td>\n",
       "      <td>escort</td>\n",
       "    </tr>\n",
       "    <tr>\n",
       "      <th>24384</th>\n",
       "      <td>Schlachte_Golf_3_gt_tdi</td>\n",
       "      <td>11111111</td>\n",
       "      <td>NaN</td>\n",
       "    </tr>\n",
       "    <tr>\n",
       "      <th>11137</th>\n",
       "      <td>suche_maserati_3200_gt_Zustand_unwichtig_laufe...</td>\n",
       "      <td>10000000</td>\n",
       "      <td>NaN</td>\n",
       "    </tr>\n",
       "    <tr>\n",
       "      <th>47634</th>\n",
       "      <td>Ferrari_FXX</td>\n",
       "      <td>3890000</td>\n",
       "      <td>NaN</td>\n",
       "    </tr>\n",
       "    <tr>\n",
       "      <th>7814</th>\n",
       "      <td>Ferrari_F40</td>\n",
       "      <td>1300000</td>\n",
       "      <td>NaN</td>\n",
       "    </tr>\n",
       "    <tr>\n",
       "      <th>22947</th>\n",
       "      <td>Bmw_530d_zum_ausschlachten</td>\n",
       "      <td>1234566</td>\n",
       "      <td>NaN</td>\n",
       "    </tr>\n",
       "    <tr>\n",
       "      <th>514</th>\n",
       "      <td>Ford_Focus_Turnier_1.6_16V_Style</td>\n",
       "      <td>999999</td>\n",
       "      <td>focus</td>\n",
       "    </tr>\n",
       "    <tr>\n",
       "      <th>43049</th>\n",
       "      <td>2_VW_Busse_T3</td>\n",
       "      <td>999999</td>\n",
       "      <td>transporter</td>\n",
       "    </tr>\n",
       "    <tr>\n",
       "      <th>37585</th>\n",
       "      <td>Volkswagen_Jetta_GT</td>\n",
       "      <td>999990</td>\n",
       "      <td>jetta</td>\n",
       "    </tr>\n",
       "  </tbody>\n",
       "</table>\n",
       "</div>"
      ],
      "text/plain": [
       "                                                    name     price  \\\n",
       "39705                        Tausch_gegen_gleichwertiges  99999999   \n",
       "42221                                  Leasinguebernahme  27322222   \n",
       "27371                                         Fiat_Punto  12345678   \n",
       "39377                        Tausche_volvo_v40_gegen_van  12345678   \n",
       "47598  Opel_Vectra_B_1_6i_16V_Facelift_Tuning_Showcar...  12345678   \n",
       "2897    Escort_MK_1_Hundeknochen_zum_umbauen_auf_RS_2000  11111111   \n",
       "24384                            Schlachte_Golf_3_gt_tdi  11111111   \n",
       "11137  suche_maserati_3200_gt_Zustand_unwichtig_laufe...  10000000   \n",
       "47634                                        Ferrari_FXX   3890000   \n",
       "7814                                         Ferrari_F40   1300000   \n",
       "22947                         Bmw_530d_zum_ausschlachten   1234566   \n",
       "514                     Ford_Focus_Turnier_1.6_16V_Style    999999   \n",
       "43049                                      2_VW_Busse_T3    999999   \n",
       "37585                                Volkswagen_Jetta_GT    999990   \n",
       "\n",
       "             model  \n",
       "39705     s_klasse  \n",
       "42221           c4  \n",
       "27371        punto  \n",
       "39377          v40  \n",
       "47598       vectra  \n",
       "2897        escort  \n",
       "24384          NaN  \n",
       "11137          NaN  \n",
       "47634          NaN  \n",
       "7814           NaN  \n",
       "22947          NaN  \n",
       "514          focus  \n",
       "43049  transporter  \n",
       "37585        jetta  "
      ]
     },
     "execution_count": 13,
     "metadata": {},
     "output_type": "execute_result"
    }
   ],
   "source": [
    "price_filter = (autos[\"price\"] > 350000)\n",
    "strange_price = autos[price_filter]\n",
    "strange_price.loc[:,[\"name\",\"price\",\"model\"]].sort_values(by=[\"price\"],ascending=False)"
   ]
  },
  {
   "cell_type": "markdown",
   "metadata": {},
   "source": [
    "Only a few of the entries with high prices are actually luxury cars. It is therefore more plausible that they can be sold for such high prices. Therefore, we can assumes that only the Maserati and the two Ferraris are legitamate listings.\n",
    "\n",
    "However, the three cars are much more expensive than the average price. Given that we are dealing with data of non-luxury brands, these three entires might again skew our analysis without adding too much value.\n",
    "\n",
    "We will therefore remove them as well."
   ]
  },
  {
   "cell_type": "code",
   "execution_count": 14,
   "metadata": {},
   "outputs": [],
   "source": [
    "cars_drop = autos[\"price\"] > 350000\n",
    "autos = autos.drop(autos.index[cars_drop])"
   ]
  },
  {
   "cell_type": "markdown",
   "metadata": {},
   "source": [
    "#### Let us look into the column odometer next"
   ]
  },
  {
   "cell_type": "code",
   "execution_count": 71,
   "metadata": {},
   "outputs": [
    {
     "data": {
      "text/plain": [
       "(13,)"
      ]
     },
     "execution_count": 71,
     "metadata": {},
     "output_type": "execute_result"
    }
   ],
   "source": [
    "autos[\"odometer\"].unique().shape"
   ]
  },
  {
   "cell_type": "code",
   "execution_count": 72,
   "metadata": {},
   "outputs": [
    {
     "data": {
      "text/plain": [
       "count     49986.000000\n",
       "mean     125736.506222\n",
       "std       40038.133399\n",
       "min        5000.000000\n",
       "25%      125000.000000\n",
       "50%      150000.000000\n",
       "75%      150000.000000\n",
       "max      150000.000000\n",
       "Name: odometer, dtype: float64"
      ]
     },
     "execution_count": 72,
     "metadata": {},
     "output_type": "execute_result"
    }
   ],
   "source": [
    "autos[\"odometer\"].describe()"
   ]
  },
  {
   "cell_type": "markdown",
   "metadata": {},
   "source": [
    "The average amount of km that a used car has driven before sale is 125.732 km. Given that the max is 150.000 and the min is 5.000, we can assume that most cars have a lot of high mileage. "
   ]
  },
  {
   "cell_type": "code",
   "execution_count": 73,
   "metadata": {},
   "outputs": [
    {
     "data": {
      "text/plain": [
       "150000    32416\n",
       "125000     5169\n",
       "100000     2168\n",
       "90000      1757\n",
       "80000      1436\n",
       "70000      1230\n",
       "60000      1164\n",
       "50000      1025\n",
       "40000       818\n",
       "30000       789\n",
       "20000       784\n",
       "10000       264\n",
       "5000        966\n",
       "Name: odometer, dtype: int64"
      ]
     },
     "execution_count": 73,
     "metadata": {},
     "output_type": "execute_result"
    }
   ],
   "source": [
    "autos[\"odometer\"].value_counts().sort_index(ascending=False).head(20)"
   ]
  },
  {
   "cell_type": "markdown",
   "metadata": {},
   "source": [
    "Almost 65% of all cars for sale has a mileage of 150.000 km. And almost 80% of all cars for sale have mileage over 100.000 km. \n",
    "\n",
    "None of the values stick out so we won't be removing any."
   ]
  },
  {
   "cell_type": "markdown",
   "metadata": {},
   "source": [
    "### Exploring date values"
   ]
  },
  {
   "cell_type": "code",
   "execution_count": 74,
   "metadata": {},
   "outputs": [
    {
     "data": {
      "text/plain": [
       "2016-03-05    0.025387\n",
       "2016-03-06    0.013944\n",
       "2016-03-07    0.035970\n",
       "2016-03-08    0.033269\n",
       "2016-03-09    0.033209\n",
       "2016-03-10    0.032129\n",
       "2016-03-11    0.032489\n",
       "2016-03-12    0.036770\n",
       "2016-03-13    0.015564\n",
       "2016-03-14    0.036630\n",
       "2016-03-15    0.033990\n",
       "2016-03-16    0.029508\n",
       "2016-03-17    0.031509\n",
       "2016-03-18    0.013064\n",
       "2016-03-19    0.034910\n",
       "2016-03-20    0.037831\n",
       "2016-03-21    0.037490\n",
       "2016-03-22    0.032909\n",
       "2016-03-23    0.032389\n",
       "2016-03-24    0.029108\n",
       "2016-03-25    0.031749\n",
       "2016-03-26    0.032489\n",
       "2016-03-27    0.031049\n",
       "2016-03-28    0.034850\n",
       "2016-03-29    0.034150\n",
       "2016-03-30    0.033629\n",
       "2016-03-31    0.031909\n",
       "2016-04-01    0.033809\n",
       "2016-04-02    0.035410\n",
       "2016-04-03    0.038691\n",
       "2016-04-04    0.036490\n",
       "2016-04-05    0.013104\n",
       "2016-04-06    0.003181\n",
       "2016-04-07    0.001420\n",
       "Name: date_crawled, dtype: float64"
      ]
     },
     "execution_count": 74,
     "metadata": {},
     "output_type": "execute_result"
    }
   ],
   "source": [
    "(autos[\"date_crawled\"]\n",
    " .str[:10]\n",
    " .value_counts(normalize=True,dropna=False)\n",
    " .sort_index()\n",
    ")"
   ]
  },
  {
   "cell_type": "markdown",
   "metadata": {},
   "source": [
    "The ads were crawled mostly in March 2016, with some also from April 2016. The distribution seems to be fairly even. "
   ]
  },
  {
   "cell_type": "code",
   "execution_count": 75,
   "metadata": {},
   "outputs": [
    {
     "data": {
      "text/plain": [
       "2015-06-11    0.000020\n",
       "2015-08-10    0.000020\n",
       "2015-09-09    0.000020\n",
       "2015-11-10    0.000020\n",
       "2015-12-05    0.000020\n",
       "                ...   \n",
       "2016-04-03    0.038931\n",
       "2016-04-04    0.036850\n",
       "2016-04-05    0.011843\n",
       "2016-04-06    0.003261\n",
       "2016-04-07    0.001280\n",
       "Name: ad_created, Length: 76, dtype: float64"
      ]
     },
     "execution_count": 75,
     "metadata": {},
     "output_type": "execute_result"
    }
   ],
   "source": [
    "(autos[\"ad_created\"]\n",
    " .str[:10]\n",
    " .value_counts(normalize=True,dropna=False)\n",
    " .sort_index()\n",
    ")"
   ]
  },
  {
   "cell_type": "code",
   "execution_count": 76,
   "metadata": {},
   "outputs": [
    {
     "data": {
      "text/plain": [
       "2016-04-07    0.001280\n",
       "2016-04-06    0.003261\n",
       "2016-04-05    0.011843\n",
       "2016-04-04    0.036850\n",
       "2016-04-03    0.038931\n",
       "                ...   \n",
       "2015-12-05    0.000020\n",
       "2015-11-10    0.000020\n",
       "2015-09-09    0.000020\n",
       "2015-08-10    0.000020\n",
       "2015-06-11    0.000020\n",
       "Name: ad_created, Length: 76, dtype: float64"
      ]
     },
     "execution_count": 76,
     "metadata": {},
     "output_type": "execute_result"
    }
   ],
   "source": [
    "(autos[\"ad_created\"]\n",
    " .str[:10]\n",
    " .value_counts(normalize=True,dropna=False)\n",
    " .sort_index(ascending=False)\n",
    ")"
   ]
  },
  {
   "cell_type": "markdown",
   "metadata": {},
   "source": [
    "The ads were created between June 2015 and April 2016. It appears that the majority of ads are from 2016. \n",
    "\n",
    "This makes sense since the website was only crawled in March-April 2016, and cars that have been sold in before that would have been removed from the site."
   ]
  },
  {
   "cell_type": "code",
   "execution_count": 77,
   "metadata": {},
   "outputs": [
    {
     "data": {
      "text/plain": [
       "2016-03-05    0.001080\n",
       "2016-03-06    0.004421\n",
       "2016-03-07    0.005362\n",
       "2016-03-08    0.007582\n",
       "2016-03-09    0.009843\n",
       "2016-03-10    0.010763\n",
       "2016-03-11    0.012524\n",
       "2016-03-12    0.023807\n",
       "2016-03-13    0.008983\n",
       "2016-03-14    0.012804\n",
       "2016-03-15    0.015884\n",
       "2016-03-16    0.016445\n",
       "2016-03-17    0.027928\n",
       "2016-03-18    0.007422\n",
       "2016-03-19    0.015744\n",
       "2016-03-20    0.020706\n",
       "2016-03-21    0.020726\n",
       "2016-03-22    0.021586\n",
       "2016-03-23    0.018585\n",
       "2016-03-24    0.019565\n",
       "2016-03-25    0.019205\n",
       "2016-03-26    0.016965\n",
       "2016-03-27    0.016024\n",
       "2016-03-28    0.020846\n",
       "2016-03-29    0.022326\n",
       "2016-03-30    0.024847\n",
       "2016-03-31    0.023827\n",
       "2016-04-01    0.023106\n",
       "2016-04-02    0.024887\n",
       "2016-04-03    0.025367\n",
       "2016-04-04    0.024627\n",
       "2016-04-05    0.124275\n",
       "2016-04-06    0.220982\n",
       "2016-04-07    0.130957\n",
       "Name: last_seen_online, dtype: float64"
      ]
     },
     "execution_count": 77,
     "metadata": {},
     "output_type": "execute_result"
    }
   ],
   "source": [
    "(autos[\"last_seen_online\"]\n",
    " .str[:10]\n",
    " .value_counts(normalize=True,dropna=False)\n",
    " .sort_index()\n",
    ")"
   ]
  },
  {
   "cell_type": "markdown",
   "metadata": {},
   "source": [
    "The last three days of April 2016 seem to have a spike in activity. "
   ]
  },
  {
   "cell_type": "markdown",
   "metadata": {},
   "source": [
    "### Exploring the registration year"
   ]
  },
  {
   "cell_type": "code",
   "execution_count": 78,
   "metadata": {},
   "outputs": [
    {
     "data": {
      "text/plain": [
       "count    49986.000000\n",
       "mean      2005.075721\n",
       "std        105.727161\n",
       "min       1000.000000\n",
       "25%       1999.000000\n",
       "50%       2003.000000\n",
       "75%       2008.000000\n",
       "max       9999.000000\n",
       "Name: registration_year, dtype: float64"
      ]
     },
     "execution_count": 78,
     "metadata": {},
     "output_type": "execute_result"
    }
   ],
   "source": [
    "autos[\"registration_year\"].describe()"
   ]
  },
  {
   "cell_type": "markdown",
   "metadata": {},
   "source": [
    "Most cars seem to have been registered in 2005. We can see some indication of potential wrong values:\n",
    "\n",
    "- The earlist registraion year is 1000. This is simply not possible\n",
    "- The latest year is 9999, which is equally impossible.\n",
    "\n",
    "We will have to do further investigation to remove these values.\n",
    "\n",
    "Technically, some old cars could have been up for sales when this data was crawled. This means we cannot, with confidence, remove any listing with registration year prior to 1908. This is the year the first massproduced car was sold. \n",
    "\n",
    "Additionally, no car could have been registreted after the listings have been crawled, which was in 2016. \n",
    "\n",
    "Therefore, let us look at all listings with registration years outside of 1900-2016 time period."
   ]
  },
  {
   "cell_type": "code",
   "execution_count": 79,
   "metadata": {},
   "outputs": [
    {
     "data": {
      "text/plain": [
       "1000    1\n",
       "1001    1\n",
       "1111    1\n",
       "1500    1\n",
       "1800    2\n",
       "       ..\n",
       "6200    1\n",
       "8888    1\n",
       "9000    2\n",
       "9996    1\n",
       "9999    4\n",
       "Name: registration_year, Length: 97, dtype: int64"
      ]
     },
     "execution_count": 79,
     "metadata": {},
     "output_type": "execute_result"
    }
   ],
   "source": [
    "(autos[\"registration_year\"]\n",
    " .value_counts()\n",
    " .sort_index()\n",
    ")"
   ]
  },
  {
   "cell_type": "code",
   "execution_count": 80,
   "metadata": {},
   "outputs": [],
   "source": [
    "years_drop1 = autos[\"registration_year\"] > 2016\n",
    "autos = autos.drop(autos.index[years_drop1])\n",
    "years_drop2 = autos[\"registration_year\"] < 1908\n",
    "autos = autos.drop(autos.index[years_drop2])"
   ]
  },
  {
   "cell_type": "code",
   "execution_count": 81,
   "metadata": {},
   "outputs": [
    {
     "data": {
      "text/plain": [
       "count    48016.000000\n",
       "mean      2002.806002\n",
       "std          7.306212\n",
       "min       1910.000000\n",
       "25%       1999.000000\n",
       "50%       2003.000000\n",
       "75%       2008.000000\n",
       "max       2016.000000\n",
       "Name: registration_year, dtype: float64"
      ]
     },
     "execution_count": 81,
     "metadata": {},
     "output_type": "execute_result"
    }
   ],
   "source": [
    "autos[\"registration_year\"].describe()"
   ]
  },
  {
   "cell_type": "markdown",
   "metadata": {},
   "source": [
    "As we see, we removed 1970 listings based on this criteria."
   ]
  },
  {
   "cell_type": "code",
   "execution_count": 82,
   "metadata": {},
   "outputs": [
    {
     "data": {
      "text/plain": [
       "1910    0.000187\n",
       "1927    0.000021\n",
       "1929    0.000021\n",
       "1931    0.000021\n",
       "1934    0.000042\n",
       "          ...   \n",
       "2012    0.027553\n",
       "2013    0.016786\n",
       "2014    0.013850\n",
       "2015    0.008310\n",
       "2016    0.027408\n",
       "Name: registration_year, Length: 78, dtype: float64"
      ]
     },
     "execution_count": 82,
     "metadata": {},
     "output_type": "execute_result"
    }
   ],
   "source": [
    "autos[\"registration_year\"].value_counts(normalize=True).sort_index()"
   ]
  },
  {
   "cell_type": "markdown",
   "metadata": {},
   "source": [
    "Now we see that the oldest car is from 1910 and the newest car is from 2016."
   ]
  },
  {
   "cell_type": "markdown",
   "metadata": {},
   "source": [
    "### Exploring the data about spesific brands\n",
    "\n",
    "Let's have a look at the top 10 brands sold:"
   ]
  },
  {
   "cell_type": "code",
   "execution_count": 83,
   "metadata": {},
   "outputs": [
    {
     "data": {
      "text/plain": [
       "volkswagen       10185\n",
       "bmw               5283\n",
       "opel              5194\n",
       "mercedes_benz     4579\n",
       "audi              4149\n",
       "ford              3350\n",
       "renault           2274\n",
       "peugeot           1418\n",
       "fiat              1242\n",
       "seat               873\n",
       "Name: brand, dtype: int64"
      ]
     },
     "execution_count": 83,
     "metadata": {},
     "output_type": "execute_result"
    }
   ],
   "source": [
    "autos[\"brand\"].value_counts().head(10)"
   ]
  },
  {
   "cell_type": "markdown",
   "metadata": {},
   "source": [
    "The most popular car brand is Volkswagen. 20% of all cars for sale are of that brand. This is the same as the next two brands combined. \n",
    "\n",
    "German brands dominate the list, with 4 brands being on the top 10 list.\n",
    "\n",
    "Let us see what is the average price for each of the top 10 brands:"
   ]
  },
  {
   "cell_type": "code",
   "execution_count": 84,
   "metadata": {},
   "outputs": [
    {
     "name": "stdout",
     "output_type": "stream",
     "text": [
      "volkswagen       10185\n",
      "bmw               5283\n",
      "opel              5194\n",
      "mercedes_benz     4579\n",
      "audi              4149\n",
      "ford              3350\n",
      "renault           2274\n",
      "peugeot           1418\n",
      "fiat              1242\n",
      "seat               873\n",
      "Name: brand, dtype: int64\n"
     ]
    }
   ],
   "source": [
    "top_10 = autos[\"brand\"].value_counts().iloc[0:10]\n",
    "\n",
    "print(top_10)"
   ]
  },
  {
   "cell_type": "code",
   "execution_count": 85,
   "metadata": {},
   "outputs": [
    {
     "data": {
      "text/plain": [
       "{'volkswagen': 5231.0,\n",
       " 'bmw': 8103.0,\n",
       " 'opel': 2877.0,\n",
       " 'mercedes_benz': 8485.0,\n",
       " 'audi': 9094.0,\n",
       " 'ford': 3652.0,\n",
       " 'renault': 2395.0,\n",
       " 'peugeot': 3039.0,\n",
       " 'fiat': 2712.0,\n",
       " 'seat': 4296.0}"
      ]
     },
     "execution_count": 85,
     "metadata": {},
     "output_type": "execute_result"
    }
   ],
   "source": [
    "top_brand = {}\n",
    "\n",
    "brands = top_10.index.unique()\n",
    "\n",
    "for b in brands:\n",
    "    selected_brand = autos[autos[\"brand\"] == b]\n",
    "    mean_price = selected_brand[\"price\"].mean()\n",
    "    price = round(mean_price)\n",
    "    top_brand[b] = price\n",
    "    \n",
    "top_brand"
   ]
  },
  {
   "cell_type": "code",
   "execution_count": 86,
   "metadata": {},
   "outputs": [
    {
     "data": {
      "text/plain": [
       "count     48016.000000\n",
       "mean       5811.516953\n",
       "std        9102.630877\n",
       "min           0.000000\n",
       "25%        1150.000000\n",
       "50%        2990.000000\n",
       "75%        7399.000000\n",
       "max      350000.000000\n",
       "Name: price, dtype: float64"
      ]
     },
     "execution_count": 86,
     "metadata": {},
     "output_type": "execute_result"
    }
   ],
   "source": [
    "autos[\"price\"].describe()"
   ]
  },
  {
   "cell_type": "markdown",
   "metadata": {},
   "source": [
    "#### Observations:\n",
    "\n",
    "- Audi, BMW, and Mercedes are the most expensive car on average. All three are almost double as expensive as the average price of all cars on the list. \n",
    "- Renault is the cheaps brand of all with an average price of 2395 USD."
   ]
  },
  {
   "cell_type": "markdown",
   "metadata": {},
   "source": [
    "### Looking at average mileage for the most popular brands\n",
    "\n",
    "Let's first calculate the average mileage for the same top 10 brands that we looked at previously."
   ]
  },
  {
   "cell_type": "code",
   "execution_count": 87,
   "metadata": {},
   "outputs": [
    {
     "data": {
      "text/plain": [
       "{'volkswagen': 128724.0,\n",
       " 'bmw': 132431.0,\n",
       " 'opel': 129223.0,\n",
       " 'mercedes_benz': 130856.0,\n",
       " 'audi': 129288.0,\n",
       " 'ford': 124069.0,\n",
       " 'renault': 128184.0,\n",
       " 'peugeot': 127137.0,\n",
       " 'fiat': 116554.0,\n",
       " 'seat': 121564.0}"
      ]
     },
     "execution_count": 87,
     "metadata": {},
     "output_type": "execute_result"
    }
   ],
   "source": [
    "top_mile = {}\n",
    "\n",
    "brands = top_10.index.unique()\n",
    "\n",
    "for b in brands:\n",
    "    selected_brand = autos[autos[\"brand\"] == b]\n",
    "    mean_mileage = selected_brand[\"odometer\"].mean()\n",
    "    mileage = round(mean_mileage)\n",
    "    top_mile[b] = mileage\n",
    "    \n",
    "top_mile"
   ]
  },
  {
   "cell_type": "markdown",
   "metadata": {},
   "source": [
    "Now let's combine both avg price and avg mileage into one dataframe for easier analysis."
   ]
  },
  {
   "cell_type": "code",
   "execution_count": 91,
   "metadata": {},
   "outputs": [
    {
     "data": {
      "text/plain": [
       "volkswagen       5231.0\n",
       "bmw              8103.0\n",
       "opel             2877.0\n",
       "mercedes_benz    8485.0\n",
       "audi             9094.0\n",
       "ford             3652.0\n",
       "renault          2395.0\n",
       "peugeot          3039.0\n",
       "fiat             2712.0\n",
       "seat             4296.0\n",
       "dtype: float64"
      ]
     },
     "execution_count": 91,
     "metadata": {},
     "output_type": "execute_result"
    }
   ],
   "source": [
    "prices = pd.Series(data=top_brand)\n",
    "prices"
   ]
  },
  {
   "cell_type": "code",
   "execution_count": 89,
   "metadata": {},
   "outputs": [
    {
     "data": {
      "text/plain": [
       "volkswagen       128724.0\n",
       "bmw              132431.0\n",
       "opel             129223.0\n",
       "mercedes_benz    130856.0\n",
       "audi             129288.0\n",
       "ford             124069.0\n",
       "renault          128184.0\n",
       "peugeot          127137.0\n",
       "fiat             116554.0\n",
       "seat             121564.0\n",
       "dtype: float64"
      ]
     },
     "execution_count": 89,
     "metadata": {},
     "output_type": "execute_result"
    }
   ],
   "source": [
    "mileages = pd.Series(data=top_mile)\n",
    "mileages"
   ]
  },
  {
   "cell_type": "code",
   "execution_count": 92,
   "metadata": {},
   "outputs": [
    {
     "data": {
      "text/html": [
       "<div>\n",
       "<style scoped>\n",
       "    .dataframe tbody tr th:only-of-type {\n",
       "        vertical-align: middle;\n",
       "    }\n",
       "\n",
       "    .dataframe tbody tr th {\n",
       "        vertical-align: top;\n",
       "    }\n",
       "\n",
       "    .dataframe thead th {\n",
       "        text-align: right;\n",
       "    }\n",
       "</style>\n",
       "<table border=\"1\" class=\"dataframe\">\n",
       "  <thead>\n",
       "    <tr style=\"text-align: right;\">\n",
       "      <th></th>\n",
       "      <th>avg_price</th>\n",
       "      <th>avg_mileage</th>\n",
       "    </tr>\n",
       "  </thead>\n",
       "  <tbody>\n",
       "    <tr>\n",
       "      <th>volkswagen</th>\n",
       "      <td>5231.0</td>\n",
       "      <td>128724.0</td>\n",
       "    </tr>\n",
       "    <tr>\n",
       "      <th>bmw</th>\n",
       "      <td>8103.0</td>\n",
       "      <td>132431.0</td>\n",
       "    </tr>\n",
       "    <tr>\n",
       "      <th>opel</th>\n",
       "      <td>2877.0</td>\n",
       "      <td>129223.0</td>\n",
       "    </tr>\n",
       "    <tr>\n",
       "      <th>mercedes_benz</th>\n",
       "      <td>8485.0</td>\n",
       "      <td>130856.0</td>\n",
       "    </tr>\n",
       "    <tr>\n",
       "      <th>audi</th>\n",
       "      <td>9094.0</td>\n",
       "      <td>129288.0</td>\n",
       "    </tr>\n",
       "    <tr>\n",
       "      <th>ford</th>\n",
       "      <td>3652.0</td>\n",
       "      <td>124069.0</td>\n",
       "    </tr>\n",
       "    <tr>\n",
       "      <th>renault</th>\n",
       "      <td>2395.0</td>\n",
       "      <td>128184.0</td>\n",
       "    </tr>\n",
       "    <tr>\n",
       "      <th>peugeot</th>\n",
       "      <td>3039.0</td>\n",
       "      <td>127137.0</td>\n",
       "    </tr>\n",
       "    <tr>\n",
       "      <th>fiat</th>\n",
       "      <td>2712.0</td>\n",
       "      <td>116554.0</td>\n",
       "    </tr>\n",
       "    <tr>\n",
       "      <th>seat</th>\n",
       "      <td>4296.0</td>\n",
       "      <td>121564.0</td>\n",
       "    </tr>\n",
       "  </tbody>\n",
       "</table>\n",
       "</div>"
      ],
      "text/plain": [
       "               avg_price  avg_mileage\n",
       "volkswagen        5231.0     128724.0\n",
       "bmw               8103.0     132431.0\n",
       "opel              2877.0     129223.0\n",
       "mercedes_benz     8485.0     130856.0\n",
       "audi              9094.0     129288.0\n",
       "ford              3652.0     124069.0\n",
       "renault           2395.0     128184.0\n",
       "peugeot           3039.0     127137.0\n",
       "fiat              2712.0     116554.0\n",
       "seat              4296.0     121564.0"
      ]
     },
     "execution_count": 92,
     "metadata": {},
     "output_type": "execute_result"
    }
   ],
   "source": [
    "top_10_brands = {\"avg_price\": prices,\"avg_mileage\":mileages}\n",
    "\n",
    "agg_brands = pd.DataFrame(data=top_10_brands)\n",
    "agg_brands"
   ]
  },
  {
   "cell_type": "markdown",
   "metadata": {},
   "source": [
    "#### Observations\n",
    "\n",
    "The aveage mileage doesn't seem to be the dominant factor that effects the price. As we can see, the average mileage for all top 10 brands are all around 130.000 km.(with the exception of Fiat). "
   ]
  },
  {
   "cell_type": "markdown",
   "metadata": {},
   "source": [
    "### Furthet data cleaning\n",
    "Let's take a look at the name column to see if it contains any useful information."
   ]
  },
  {
   "cell_type": "code",
   "execution_count": 100,
   "metadata": {},
   "outputs": [
    {
     "data": {
      "text/html": [
       "<div>\n",
       "<style scoped>\n",
       "    .dataframe tbody tr th:only-of-type {\n",
       "        vertical-align: middle;\n",
       "    }\n",
       "\n",
       "    .dataframe tbody tr th {\n",
       "        vertical-align: top;\n",
       "    }\n",
       "\n",
       "    .dataframe thead th {\n",
       "        text-align: right;\n",
       "    }\n",
       "</style>\n",
       "<table border=\"1\" class=\"dataframe\">\n",
       "  <thead>\n",
       "    <tr style=\"text-align: right;\">\n",
       "      <th></th>\n",
       "      <th>name</th>\n",
       "      <th>brand</th>\n",
       "      <th>model</th>\n",
       "    </tr>\n",
       "  </thead>\n",
       "  <tbody>\n",
       "    <tr>\n",
       "      <th>0</th>\n",
       "      <td>Peugeot_807_160_NAVTECH_ON_BOARD</td>\n",
       "      <td>peugeot</td>\n",
       "      <td>andere</td>\n",
       "    </tr>\n",
       "    <tr>\n",
       "      <th>1</th>\n",
       "      <td>BMW_740i_4_4_Liter_HAMANN_UMBAU_Mega_Optik</td>\n",
       "      <td>bmw</td>\n",
       "      <td>7er</td>\n",
       "    </tr>\n",
       "    <tr>\n",
       "      <th>2</th>\n",
       "      <td>Volkswagen_Golf_1.6_United</td>\n",
       "      <td>volkswagen</td>\n",
       "      <td>golf</td>\n",
       "    </tr>\n",
       "    <tr>\n",
       "      <th>3</th>\n",
       "      <td>Smart_smart_fortwo_coupe_softouch/F1/Klima/Pan...</td>\n",
       "      <td>smart</td>\n",
       "      <td>fortwo</td>\n",
       "    </tr>\n",
       "    <tr>\n",
       "      <th>4</th>\n",
       "      <td>Ford_Focus_1_6_Benzin_TÜV_neu_ist_sehr_gepfleg...</td>\n",
       "      <td>ford</td>\n",
       "      <td>focus</td>\n",
       "    </tr>\n",
       "    <tr>\n",
       "      <th>5</th>\n",
       "      <td>Chrysler_Grand_Voyager_2.8_CRD_Aut.Limited_Sto...</td>\n",
       "      <td>chrysler</td>\n",
       "      <td>voyager</td>\n",
       "    </tr>\n",
       "    <tr>\n",
       "      <th>6</th>\n",
       "      <td>VW_Golf_III_GT_Special_Electronic_Green_Metall...</td>\n",
       "      <td>volkswagen</td>\n",
       "      <td>golf</td>\n",
       "    </tr>\n",
       "    <tr>\n",
       "      <th>7</th>\n",
       "      <td>Golf_IV_1.9_TDI_90PS</td>\n",
       "      <td>volkswagen</td>\n",
       "      <td>golf</td>\n",
       "    </tr>\n",
       "    <tr>\n",
       "      <th>8</th>\n",
       "      <td>Seat_Arosa</td>\n",
       "      <td>seat</td>\n",
       "      <td>arosa</td>\n",
       "    </tr>\n",
       "    <tr>\n",
       "      <th>9</th>\n",
       "      <td>Renault_Megane_Scenic_1.6e_RT_Klimaanlage</td>\n",
       "      <td>renault</td>\n",
       "      <td>megane</td>\n",
       "    </tr>\n",
       "    <tr>\n",
       "      <th>11</th>\n",
       "      <td>Mercedes_A140_Motorschaden</td>\n",
       "      <td>mercedes_benz</td>\n",
       "      <td>NaN</td>\n",
       "    </tr>\n",
       "    <tr>\n",
       "      <th>12</th>\n",
       "      <td>Smart_smart_fortwo_coupe_softouch_pure_MHD_Pan...</td>\n",
       "      <td>smart</td>\n",
       "      <td>fortwo</td>\n",
       "    </tr>\n",
       "    <tr>\n",
       "      <th>13</th>\n",
       "      <td>Audi_A3_1.6_tuning</td>\n",
       "      <td>audi</td>\n",
       "      <td>a3</td>\n",
       "    </tr>\n",
       "    <tr>\n",
       "      <th>14</th>\n",
       "      <td>Renault_Clio_3__Dynamique_1.2__16_V;_viele_Ver...</td>\n",
       "      <td>renault</td>\n",
       "      <td>clio</td>\n",
       "    </tr>\n",
       "    <tr>\n",
       "      <th>15</th>\n",
       "      <td>Corvette_C3_Coupe_T_Top_Crossfire_Injection</td>\n",
       "      <td>sonstige_autos</td>\n",
       "      <td>NaN</td>\n",
       "    </tr>\n",
       "    <tr>\n",
       "      <th>16</th>\n",
       "      <td>Opel_Vectra_B_Kombi</td>\n",
       "      <td>opel</td>\n",
       "      <td>vectra</td>\n",
       "    </tr>\n",
       "    <tr>\n",
       "      <th>17</th>\n",
       "      <td>Volkswagen_Scirocco_2_G60</td>\n",
       "      <td>volkswagen</td>\n",
       "      <td>scirocco</td>\n",
       "    </tr>\n",
       "    <tr>\n",
       "      <th>18</th>\n",
       "      <td>Verkaufen_mein_bmw_e36_320_i_touring</td>\n",
       "      <td>bmw</td>\n",
       "      <td>3er</td>\n",
       "    </tr>\n",
       "    <tr>\n",
       "      <th>19</th>\n",
       "      <td>mazda_tribute_2.0_mit_gas_und_tuev_neu_2018</td>\n",
       "      <td>mazda</td>\n",
       "      <td>andere</td>\n",
       "    </tr>\n",
       "    <tr>\n",
       "      <th>20</th>\n",
       "      <td>Audi_A4_Avant_1.9_TDI_*6_Gang*AHK*Klimatronik*...</td>\n",
       "      <td>audi</td>\n",
       "      <td>a4</td>\n",
       "    </tr>\n",
       "  </tbody>\n",
       "</table>\n",
       "</div>"
      ],
      "text/plain": [
       "                                                 name           brand  \\\n",
       "0                    Peugeot_807_160_NAVTECH_ON_BOARD         peugeot   \n",
       "1          BMW_740i_4_4_Liter_HAMANN_UMBAU_Mega_Optik             bmw   \n",
       "2                          Volkswagen_Golf_1.6_United      volkswagen   \n",
       "3   Smart_smart_fortwo_coupe_softouch/F1/Klima/Pan...           smart   \n",
       "4   Ford_Focus_1_6_Benzin_TÜV_neu_ist_sehr_gepfleg...            ford   \n",
       "5   Chrysler_Grand_Voyager_2.8_CRD_Aut.Limited_Sto...        chrysler   \n",
       "6   VW_Golf_III_GT_Special_Electronic_Green_Metall...      volkswagen   \n",
       "7                                Golf_IV_1.9_TDI_90PS      volkswagen   \n",
       "8                                          Seat_Arosa            seat   \n",
       "9           Renault_Megane_Scenic_1.6e_RT_Klimaanlage         renault   \n",
       "11                         Mercedes_A140_Motorschaden   mercedes_benz   \n",
       "12  Smart_smart_fortwo_coupe_softouch_pure_MHD_Pan...           smart   \n",
       "13                                 Audi_A3_1.6_tuning            audi   \n",
       "14  Renault_Clio_3__Dynamique_1.2__16_V;_viele_Ver...         renault   \n",
       "15        Corvette_C3_Coupe_T_Top_Crossfire_Injection  sonstige_autos   \n",
       "16                                Opel_Vectra_B_Kombi            opel   \n",
       "17                          Volkswagen_Scirocco_2_G60      volkswagen   \n",
       "18               Verkaufen_mein_bmw_e36_320_i_touring             bmw   \n",
       "19        mazda_tribute_2.0_mit_gas_und_tuev_neu_2018           mazda   \n",
       "20  Audi_A4_Avant_1.9_TDI_*6_Gang*AHK*Klimatronik*...            audi   \n",
       "\n",
       "       model  \n",
       "0     andere  \n",
       "1        7er  \n",
       "2       golf  \n",
       "3     fortwo  \n",
       "4      focus  \n",
       "5    voyager  \n",
       "6       golf  \n",
       "7       golf  \n",
       "8      arosa  \n",
       "9     megane  \n",
       "11       NaN  \n",
       "12    fortwo  \n",
       "13        a3  \n",
       "14      clio  \n",
       "15       NaN  \n",
       "16    vectra  \n",
       "17  scirocco  \n",
       "18       3er  \n",
       "19    andere  \n",
       "20        a4  "
      ]
     },
     "execution_count": 100,
     "metadata": {},
     "output_type": "execute_result"
    }
   ],
   "source": [
    "autos.loc[:,[\"name\",\"brand\",\"model\"]].head(20)"
   ]
  },
  {
   "cell_type": "code",
   "execution_count": null,
   "metadata": {},
   "outputs": [],
   "source": []
  }
 ],
 "metadata": {
  "kernelspec": {
   "display_name": "Python 3",
   "language": "python",
   "name": "python3"
  },
  "language_info": {
   "codemirror_mode": {
    "name": "ipython",
    "version": 3
   },
   "file_extension": ".py",
   "mimetype": "text/x-python",
   "name": "python",
   "nbconvert_exporter": "python",
   "pygments_lexer": "ipython3",
   "version": "3.8.3"
  }
 },
 "nbformat": 4,
 "nbformat_minor": 2
}
